{
 "cells": [
  {
   "cell_type": "markdown",
   "metadata": {},
   "source": [
    "# Lista 1\n",
    "\n",
    "## Kurs wybranego języka programowania (Python)\n",
    "\n",
    "Wszystkie rozwiązania proszę wpisać w tym notatniku poniżej treści zadań. Zadania z `*` to zadania dodatkowe."
   ]
  },
  {
   "cell_type": "markdown",
   "metadata": {},
   "source": [
    "## Zadanie 1 _(5pt)_\n",
    "\n",
    "Napisz funkcję, który wyświetla trójkąt Pascala o zadanej wysokości\n",
    "```\n",
    "                1\n",
    "              1   1\n",
    "            1   2   1\n",
    "          1   3   3   1\n",
    "        1   4   6   4   1\n",
    "      .....................\n",
    "```"
   ]
  },
  {
   "cell_type": "code",
   "execution_count": 1,
   "metadata": {},
   "outputs": [
    {
     "name": "stdout",
     "output_type": "stream",
     "text": [
      "                                               1\n",
      "                                           1       1\n",
      "                                       1       2       1\n",
      "                                   1       3       3       1\n",
      "                               1       4       6       4       1\n",
      "                           1       5      10      10       5       1\n",
      "                       1       6      15      20      15       6       1\n",
      "                   1       7      21      35      35      21       7       1\n",
      "               1       8      28      56      70      56      28       8       1\n",
      "           1       9      36      84     126     126      84      36       9       1\n"
     ]
    }
   ],
   "source": [
    "def pascal_triangle(n):\n",
    "    a=[]\n",
    "    for i in range(n):\n",
    "        b=[]\n",
    "        print('    '*(n-i),end='' )\n",
    "        for j in range(i+1):\n",
    "            if j==0 or j==i:\n",
    "                b.append(1)\n",
    "            else:\n",
    "                b.append(a[j]+a[j-1])\n",
    "            print('{0:8}'.format(b[j]),end='')\n",
    "        a=b\n",
    "        print()\n",
    "  \n",
    "            \n",
    "pascal_triangle(10)"
   ]
  },
  {
   "cell_type": "markdown",
   "metadata": {},
   "source": [
    "## Zadanie 2 _(5pt)_\n",
    "\n",
    "Napisz funkcję `primes(n)` zwracająca listę liczb pierwszych nie większych niż $n$ np.\n",
    "\n",
    "```\n",
    "In [ ]:   primes(6)\n",
    "Out [ ]: [2, 3, 5]\n",
    "```"
   ]
  },
  {
   "cell_type": "code",
   "execution_count": 2,
   "metadata": {},
   "outputs": [
    {
     "data": {
      "text/plain": [
       "[2,\n",
       " 3,\n",
       " 5,\n",
       " 7,\n",
       " 11,\n",
       " 13,\n",
       " 17,\n",
       " 19,\n",
       " 23,\n",
       " 29,\n",
       " 31,\n",
       " 37,\n",
       " 41,\n",
       " 43,\n",
       " 47,\n",
       " 53,\n",
       " 59,\n",
       " 61,\n",
       " 67,\n",
       " 71,\n",
       " 73,\n",
       " 79,\n",
       " 83,\n",
       " 89,\n",
       " 97,\n",
       " 101,\n",
       " 103,\n",
       " 107,\n",
       " 109,\n",
       " 113,\n",
       " 127,\n",
       " 131,\n",
       " 137,\n",
       " 139,\n",
       " 149,\n",
       " 151,\n",
       " 157,\n",
       " 163,\n",
       " 167,\n",
       " 173,\n",
       " 179,\n",
       " 181,\n",
       " 191,\n",
       " 193,\n",
       " 197,\n",
       " 199,\n",
       " 211,\n",
       " 223,\n",
       " 227,\n",
       " 229,\n",
       " 233,\n",
       " 239,\n",
       " 241,\n",
       " 251,\n",
       " 257,\n",
       " 263,\n",
       " 269,\n",
       " 271,\n",
       " 277,\n",
       " 281,\n",
       " 283,\n",
       " 293,\n",
       " 307,\n",
       " 311,\n",
       " 313,\n",
       " 317,\n",
       " 331,\n",
       " 337,\n",
       " 347,\n",
       " 349,\n",
       " 353,\n",
       " 359,\n",
       " 367,\n",
       " 373,\n",
       " 379,\n",
       " 383,\n",
       " 389,\n",
       " 397,\n",
       " 401,\n",
       " 409,\n",
       " 419,\n",
       " 421,\n",
       " 431,\n",
       " 433,\n",
       " 439,\n",
       " 443,\n",
       " 449,\n",
       " 457,\n",
       " 461,\n",
       " 463,\n",
       " 467,\n",
       " 479,\n",
       " 487,\n",
       " 491,\n",
       " 499,\n",
       " 503,\n",
       " 509,\n",
       " 521,\n",
       " 523,\n",
       " 541,\n",
       " 547,\n",
       " 557,\n",
       " 563,\n",
       " 569,\n",
       " 571,\n",
       " 577,\n",
       " 587,\n",
       " 593,\n",
       " 599,\n",
       " 601,\n",
       " 607,\n",
       " 613,\n",
       " 617,\n",
       " 619,\n",
       " 631,\n",
       " 641,\n",
       " 643,\n",
       " 647,\n",
       " 653,\n",
       " 659,\n",
       " 661,\n",
       " 673,\n",
       " 677,\n",
       " 683,\n",
       " 691,\n",
       " 701,\n",
       " 709,\n",
       " 719,\n",
       " 727,\n",
       " 733,\n",
       " 739,\n",
       " 743,\n",
       " 751,\n",
       " 757,\n",
       " 761,\n",
       " 769,\n",
       " 773,\n",
       " 787,\n",
       " 797,\n",
       " 809,\n",
       " 811,\n",
       " 821,\n",
       " 823,\n",
       " 827,\n",
       " 829,\n",
       " 839,\n",
       " 853,\n",
       " 857,\n",
       " 859,\n",
       " 863,\n",
       " 877,\n",
       " 881,\n",
       " 883,\n",
       " 887,\n",
       " 907,\n",
       " 911,\n",
       " 919,\n",
       " 929,\n",
       " 937,\n",
       " 941,\n",
       " 947,\n",
       " 953,\n",
       " 967,\n",
       " 971,\n",
       " 977,\n",
       " 983,\n",
       " 991,\n",
       " 997]"
      ]
     },
     "execution_count": 2,
     "metadata": {},
     "output_type": "execute_result"
    }
   ],
   "source": [
    "import time\n",
    "def primes(n):\n",
    "    primes=[]\n",
    "    for i in range(2,n+1):\n",
    "        for j in range(len(primes)):\n",
    "            if i % primes[j] == 0:\n",
    "                break\n",
    "        else:\n",
    "            primes.append(i)\n",
    "    return primes\n",
    "primes(1000)"
   ]
  },
  {
   "cell_type": "markdown",
   "metadata": {},
   "source": [
    "## Zadanie 3 _(5pt)_\n",
    "\n",
    "Napisz funkcje, która usuwa wszystkie powtarzające się elementy z listy (tak, że każdy element występuje tylko raz) np. z listy `[1,1,2,2,2,3,3,5,5,5,4,4,4,0]` dostajemy `[1,2,3,5,4,0]`."
   ]
  },
  {
   "cell_type": "code",
   "execution_count": 3,
   "metadata": {},
   "outputs": [
    {
     "data": {
      "text/plain": [
       "[1, 2, 3, 5, 4, 0]"
      ]
     },
     "execution_count": 3,
     "metadata": {},
     "output_type": "execute_result"
    }
   ],
   "source": [
    "def unique(n):\n",
    "    return list(dict.fromkeys(n))\n",
    "unique([1,1,2,2,2,3,3,5,5,5,4,4,4,0])"
   ]
  },
  {
   "cell_type": "markdown",
   "metadata": {},
   "source": [
    "## Zadanie 4 _(10pt)_\n",
    "\n",
    "Napisz funkcję `prime_factors(n)`, która rozkłada $n$ na czynniki pierwsze i jako wynik wraca listę par $[(p_1,\\alpha_1), (p_2,\\alpha_2), \\ldots, (p_k, \\alpha_k)]$ taką, że $p_1^{\\alpha_1}p_2^{\\alpha_2}\\ldots p_k^{\\alpha_k}$.\n"
   ]
  },
  {
   "cell_type": "code",
   "execution_count": 4,
   "metadata": {},
   "outputs": [
    {
     "data": {
      "text/plain": [
       "[(3, 1), (29, 1), (41, 1)]"
      ]
     },
     "execution_count": 4,
     "metadata": {},
     "output_type": "execute_result"
    }
   ],
   "source": [
    "def prime_factors(n):\n",
    "    res = []\n",
    "    p = 0\n",
    "    pl = primes(n)\n",
    "    while n != 1:\n",
    "        counter = 0\n",
    "        while n % pl[p] == 0:\n",
    "            n /= pl[p]\n",
    "            counter += 1\n",
    "        if counter > 0:\n",
    "            res.append((pl[p],counter))\n",
    "        p += 1\n",
    "    \n",
    "    return res\n",
    "prime_factors(3567)"
   ]
  },
  {
   "cell_type": "markdown",
   "metadata": {},
   "source": [
    "## Zadanie 5 _(10pt)_\n",
    "\n",
    "Napisz funkcję `fraczero(n)` liczącą silnie $n!$ dla $n$ od $0$ do $10000$ oraz jako wynik wraca liczbę zer na końcu $n!$."
   ]
  },
  {
   "cell_type": "code",
   "execution_count": 5,
   "metadata": {},
   "outputs": [],
   "source": [
    "def fraczero(n):\n",
    "    z=0\n",
    "    p=1\n",
    "    while 5**p < n:\n",
    "        z += int(n/(5**p))\n",
    "        p+=1\n",
    "    return z"
   ]
  },
  {
   "cell_type": "code",
   "execution_count": 6,
   "metadata": {},
   "outputs": [
    {
     "data": {
      "text/plain": [
       "2499"
      ]
     },
     "execution_count": 6,
     "metadata": {},
     "output_type": "execute_result"
    }
   ],
   "source": [
    "fraczero(10000)"
   ]
  },
  {
   "cell_type": "markdown",
   "metadata": {},
   "source": [
    "## Zadanie 6 _(10pt)_\n",
    "\n",
    "Napisz program, który generuje liczbę $20$ liczb losowych (rozkład jednostajny) od $1$ do $100$\n",
    "* Wyświetl listę wygenerowanych liczb\n",
    "* Wyświetl średnią\n",
    "* Wyświetl największą i najmniejszą wartość\n",
    "* Wyświetl drugą największą i drugą najmniejszą wartość na liście\n",
    "* Wyświetl ile jest liczb parzystych na liście\n",
    " "
   ]
  },
  {
   "cell_type": "code",
   "execution_count": 7,
   "metadata": {
    "scrolled": true
   },
   "outputs": [
    {
     "name": "stdout",
     "output_type": "stream",
     "text": [
      "Lista: [60, 60, 63, 82, 44, 39, 3, 68, 43, 35, 29, 35, 16, 93, 95, 44, 60, 40, 22, 74]\n",
      "\n",
      "Średnia: 50.25\n",
      "\n",
      "Maksymalna:  95  Minimalna:  3\n",
      "Druga najmniejsza:  16  Druga największa:  93\n",
      "Ilość parzystych:  11\n"
     ]
    }
   ],
   "source": [
    "import random\n",
    "import statistics\n",
    "\n",
    "p = 0\n",
    "rand = []\n",
    "for i in range(20):\n",
    "    rand.append(random.randint(1,100))\n",
    "    if rand[i] % 2 == 0:\n",
    "        p+=1\n",
    "minRand = min(rand)\n",
    "maxRand = max(rand)\n",
    "print('Lista: '+str(rand)+'\\n')\n",
    "print('Średnia: '+str(statistics.mean(rand))+'\\n')\n",
    "print('Maksymalna: ',maxRand,' Minimalna: ',minRand)\n",
    "\n",
    "rand = [v for v in rand if v != minRand and v != maxRand]\n",
    "minRand = min(rand)\n",
    "maxRand = max(rand)\n",
    "print('Druga najmniejsza: ',minRand,' Druga największa: ',maxRand)\n",
    "print('Ilość parzystych: ',p)"
   ]
  },
  {
   "cell_type": "markdown",
   "metadata": {},
   "source": [
    "## Zadanie 7 _(10pt)_\n",
    "\n",
    "Załóżmy, że mamy następującą listę: `L = ['aababacaa', 'cabaabcca', 'aaabbcbacb', 'acababbaab', ...]` wygenerowaną losowo tzn. lista zawiera losowe ciągi znaków o zadanej długości z liter `'a'`, `'b'` i `'c'`. Takie wzorce występują w wielu miejscach np. sekwencje DNA. Użytkownik zawiera swój (wzorzec) ciąg znaków z literami i pustymi miejscami oznaczonymi przez `'*'` np. `\"a**a******\"`. Wykorzystaj słownik z kluczami zawierającymi indeksy znaków różnych od `'*'` i wartościami liter z wzorca. Napisz program, który znajduje wszystkie sekwencje z listy, które pasuje do podanego wzorca."
   ]
  },
  {
   "cell_type": "code",
   "execution_count": 8,
   "metadata": {},
   "outputs": [
    {
     "data": {
      "text/plain": [
       "['aababacaa']"
      ]
     },
     "execution_count": 8,
     "metadata": {},
     "output_type": "execute_result"
    }
   ],
   "source": [
    "class BreakOutOfLoop(Exception): pass\n",
    "def dna_comparison(l,u):\n",
    "    user = {}\n",
    "    for i in range(len(u)):\n",
    "        if (u[i] == 'a' or u[i] == 'b' or u[i] == 'c'):\n",
    "            user[i] = u[i]\n",
    "    result = []\n",
    "    for illnes in l:\n",
    "        try:\n",
    "            for place,codeDNA in user.items():\n",
    "                if illnes[place] != codeDNA:\n",
    "                    raise BreakOutOfLoop\n",
    "        except BreakOutOfLoop:\n",
    "            break\n",
    "        result.append(illnes)\n",
    "    return result\n",
    "dna_comparison(['aababacaa', 'cabaabcca', 'aaabbcbacb', 'acababbaab'],'a**a******')"
   ]
  },
  {
   "cell_type": "markdown",
   "metadata": {},
   "source": [
    "## Zadanie 8 _(10pt)_\n",
    "\n",
    "Napisz program, który konwerteruje liczby rzymskie na liczby arabskie. Do zapisu liczb rzymskich używa\n",
    "się 7 liter: `I=1`, `V=5`, `X=10`, `L=50`, `C=100`, `D=500`, `M=1000`. Opis algorytmu zamiany z i na system rzymski można znaleźć np. [tutaj](http://www.algorytm.org/algorytmy-arytmetyczne/zamiana-z-i-na-system-rzymski.html)"
   ]
  },
  {
   "cell_type": "code",
   "execution_count": 9,
   "metadata": {},
   "outputs": [
    {
     "data": {
      "text/plain": [
       "1708"
      ]
     },
     "execution_count": 9,
     "metadata": {},
     "output_type": "execute_result"
    }
   ],
   "source": [
    "def roman(romanNumber):\n",
    "    dict = {'I':1, 'V':5, 'X':10, 'L':50, 'C':100, 'D':500, 'M':1000}\n",
    "    value =0\n",
    "    counter = 0\n",
    "    try:\n",
    "        for i in range(len(romanNumber)):\n",
    "            if counter < 2:\n",
    "                if i > 0 and dict[romanNumber[i]] > dict[romanNumber[i - 1]]:\n",
    "                    value += dict[romanNumber[i]] - 2 * dict[romanNumber[i - 1]]\n",
    "                else:\n",
    "                    value += dict[romanNumber[i]]\n",
    "            else:\n",
    "                raise Exception('Błędne dane') \n",
    "        return value\n",
    "    except Exception:\n",
    "        print('Błędne dane')\n",
    "roman('MDCCVIII')"
   ]
  },
  {
   "cell_type": "markdown",
   "metadata": {},
   "source": [
    "## Zadanie 9* _(5pt)_\n",
    "\n",
    "Napisz program kalkulator, który pobiera wprowadzone wartości oraz funkcje z klawiatury następnie podaje wynik. W przypadku błędnych danych zgłasza błąd.\n",
    "\n",
    "Przykładowa sesja:\n",
    "```\n",
    "    Kalkulator\n",
    "    [1]: 2+5*10\n",
    "        52\n",
    "    [2]: sin(0.5)+cos(0.3)\n",
    "        1.434762027729809\n",
    "    [3]: 2^100\n",
    "        1267650600228229401496703205376\n",
    "```\n",
    "\n",
    "Przykładowy kod pobierania danych od użytkownika:\n",
    "\n",
    "```\n",
    "    x = input('Podaj x = ')\n",
    "```"
   ]
  },
  {
   "cell_type": "code",
   "execution_count": 11,
   "metadata": {},
   "outputs": [
    {
     "name": "stdout",
     "output_type": "stream",
     "text": [
      "Podaj x = sin(12)\n",
      "-0.5365729180004349\n"
     ]
    }
   ],
   "source": [
    "from math import *\n",
    "try:\n",
    "    x = input('Podaj x = ')\n",
    "    x = x.replace('^','**')\n",
    "    x = x.replace('mod','%')\n",
    "    print(eval(x))\n",
    "except (BadData, SyntaxError, NameError):\n",
    "   print('Błędne dane')"
   ]
  },
  {
   "cell_type": "markdown",
   "metadata": {},
   "source": [
    "\n",
    "## Zadanie 10* _(10pt)_\n",
    "\n",
    "Napisz program, który rysuje na ekranie w trybie znakowym wykres funkcji zmiennej $x$. Wskazówka: utwórz  ,,tablicę dwuwymiarową'' o wymiarach 80x24 i narysuj wykres w tej tablicy. Następnie wynik wyświetl na ekranie.\n",
    "\n",
    "```\n",
    "        Podaj funkcje f(x) = sin(x)\n",
    "        Podaj początek przedziału a = -pi\n",
    "        Podaj koniec przedziału b = pi\n",
    "                                                |\n",
    "                                                |\n",
    "                                                |              ***********\n",
    "                                                |           ***           ***\n",
    "                                                |         **                 **\n",
    "                                                |        *                     *\n",
    "                                                |      **                       **\n",
    "                                                |     *                           *\n",
    "                                                |   **                             **\n",
    "                                                |  *                                 *\n",
    "                                                | *                                   *\n",
    "                                                |*                                     *\n",
    "        ----------------------------------------|---------------------------------------\n",
    "          *                                   * |\n",
    "           *                                 *  |\n",
    "            **                             **   |\n",
    "              *                           *     |\n",
    "               **                       **      |\n",
    "                 *                     *        |\n",
    "                  **                 **         |\n",
    "                    ***           ***           |\n",
    "                       ***** *****              |\n",
    "                            *                   |\n",
    "                                                |\n",
    "```"
   ]
  },
  {
   "cell_type": "code",
   "execution_count": 12,
   "metadata": {
    "scrolled": false
   },
   "outputs": [
    {
     "name": "stdout",
     "output_type": "stream",
     "text": [
      "Podaj funkcję f(x) = sin(x)+12\n",
      "Podaj początek przedziału a = -pi\n",
      "Podaj koniec przedziału b = pi\n",
      "                                        |                *******                \n",
      "                                        |             ***       ***             \n",
      "                                        |           **             **           \n",
      "                                        |         **                 **         \n",
      "                                        |        *                     *        \n",
      "                                        |      **                       **      \n",
      "                                        |     *                           *     \n",
      "                                        |    *                             *    \n",
      "                                        |   *                               *   \n",
      "                                        |  *                                 *  \n",
      "                                        | *                                   * \n",
      "*                                       |*                                     *\n",
      " *                                     *|                                       \n",
      "  *                                   * |                                       \n",
      "   *                                 *  |                                       \n",
      "    *                               *   |                                       \n",
      "     *                             *    |                                       \n",
      "      *                           *     |                                       \n",
      "       **                       **      |                                       \n",
      "         *                     *        |                                       \n",
      "          **                 **         |                                       \n",
      "            **             **           |                                       \n",
      "              ***       ***             |                                       \n",
      "                 *******                |                                       \n"
     ]
    }
   ],
   "source": [
    "import numpy as np\n",
    "from math import *\n",
    "class BadData(Exception): pass\n",
    "\n",
    "try:\n",
    "    f = input('Podaj funkcję f(x) = ')\n",
    "    a = input('Podaj początek przedziału a = ')\n",
    "    a = eval(a)\n",
    "    b = input('Podaj koniec przedziału b = ')\n",
    "    b = eval(b)\n",
    "    if (a >= b):\n",
    "        raise BadData\n",
    "    f = f.replace('^','**')\n",
    "    f = f.replace('mod','%')\n",
    "    result = []\n",
    "    for i in np.arange(a,b,(b-a)/80):\n",
    "        p = f.replace('x',str(i))\n",
    "        r = eval(p)\n",
    "        result.append(r)\n",
    "\n",
    "    maxResult = np.max(result)\n",
    "    minResult = np.min(result)\n",
    "    c = (maxResult - minResult)/23\n",
    "    graph = []\n",
    "    \n",
    "    for y in range(24):\n",
    "        graph.append([])\n",
    "        for x in range(80):\n",
    "            graph[y].append(' ')\n",
    "            \n",
    "    d = (b-a)/160\n",
    "    for x in range(80): \n",
    "        graph[int(round((result[x]-minResult)*23/(maxResult-minResult)))][x] = '*'\n",
    "        p1 = a+(2*x-1)*d\n",
    "        p2 = a+(2*x+1)*d\n",
    "        for y in range(24):\n",
    "            if p1 < 0 <= p2:\n",
    "                graph[y][x]='|'\n",
    "            elif minResult+c*(y+0.5) <= 0 <= maxResult-c*(22.5-y):\n",
    "                graph[y][x]='-'\n",
    "    for y in range(23,-1,-1):\n",
    "        for x in range(80):\n",
    "            print(graph[y][x],end='')\n",
    "        print()\n",
    "except (BadData, SyntaxError, NameError):\n",
    "   print('Błędne dane')\n"
   ]
  },
  {
   "cell_type": "code",
   "execution_count": null,
   "metadata": {},
   "outputs": [],
   "source": []
  }
 ],
 "metadata": {
  "kernelspec": {
   "display_name": "Python 3",
   "language": "python",
   "name": "python3"
  },
  "language_info": {
   "codemirror_mode": {
    "name": "ipython",
    "version": 3
   },
   "file_extension": ".py",
   "mimetype": "text/x-python",
   "name": "python",
   "nbconvert_exporter": "python",
   "pygments_lexer": "ipython3",
   "version": "3.8.1"
  }
 },
 "nbformat": 4,
 "nbformat_minor": 2
}
